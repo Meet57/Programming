{
 "cells": [
  {
   "cell_type": "markdown",
   "id": "magnetic-conjunction",
   "metadata": {},
   "source": [
    "#### 1 Write a program to scan a list of integers using list comprehension."
   ]
  },
  {
   "cell_type": "code",
   "execution_count": 5,
   "id": "focused-sauce",
   "metadata": {},
   "outputs": [
    {
     "name": "stdout",
     "output_type": "stream",
     "text": [
      "How many numbers you want to enter :5\n",
      "Enter NUmber :1\n",
      "Enter NUmber :2\n",
      "Enter NUmber :3\n",
      "Enter NUmber :3\n",
      "Enter NUmber :4\n",
      "List is : [1, 2, 3, 3, 4]\n"
     ]
    }
   ],
   "source": [
    "n = int(input(\"How many numbers you want to enter :\"))\n",
    "l = [int(input(\"Enter NUmber :\")) for i in range(n)]\n",
    "\n",
    "print(\"List is :\",l)"
   ]
  },
  {
   "cell_type": "markdown",
   "id": "placed-challenge",
   "metadata": {},
   "source": [
    "#### 2 Write a program to transpose a matrix using list comprehension."
   ]
  },
  {
   "cell_type": "code",
   "execution_count": 7,
   "id": "chemical-dialogue",
   "metadata": {},
   "outputs": [
    {
     "name": "stdout",
     "output_type": "stream",
     "text": [
      "Matrix :\n",
      "[12, 7, 3]\n",
      "[4, 5, 6]\n",
      "[7, 8, 9]\n",
      "\n",
      "\n",
      "Transpose Matrix:\n",
      "[12, 4, 7]\n",
      "[7, 5, 8]\n",
      "[3, 6, 9]\n"
     ]
    }
   ],
   "source": [
    "x = [[12,7,3],\n",
    "     [4,5,6],\n",
    "     [7,8,9]]\n",
    "\n",
    "y = [[x[i][j] for i in range(len(x))] for j in range(len(x[0]))]\n",
    "\n",
    "print(\"Matrix :\")\n",
    "for i in x:\n",
    "    print(i)\n",
    "print(\"\\n\\nTranspose Matrix:\")\n",
    "for i in y:\n",
    "    print(i)"
   ]
  },
  {
   "cell_type": "markdown",
   "id": "duplicate-rocket",
   "metadata": {},
   "source": [
    "#### 3 Write a program to find the prime numbers in a specific range using filter."
   ]
  },
  {
   "cell_type": "code",
   "execution_count": 13,
   "id": "relevant-utilization",
   "metadata": {},
   "outputs": [
    {
     "name": "stdout",
     "output_type": "stream",
     "text": [
      "Enter the range :50\n",
      "[3, 5, 7, 11, 13, 17, 19, 23, 29, 31, 37, 41, 43, 47]\n"
     ]
    }
   ],
   "source": [
    "def prime(n):\n",
    "    for i in range(2,int(n/2 + 1)):\n",
    "        if n%i == 0:\n",
    "            return False\n",
    "    \n",
    "    return True\n",
    "\n",
    "n = int(input(\"Enter the range :\"))\n",
    "\n",
    "a = list(filter(prime,range(3,n+1)))\n",
    "\n",
    "print(a)"
   ]
  },
  {
   "cell_type": "markdown",
   "id": "drawn-tract",
   "metadata": {},
   "source": [
    "#### 4 Write a python program to make sum of particular range using reduce."
   ]
  },
  {
   "cell_type": "code",
   "execution_count": 15,
   "id": "pharmaceutical-subject",
   "metadata": {},
   "outputs": [
    {
     "name": "stdout",
     "output_type": "stream",
     "text": [
      "Enter the range to sum:10\n",
      "45\n"
     ]
    }
   ],
   "source": [
    "from functools import reduce\n",
    "\n",
    "def sum(a,b):\n",
    "    return a+b\n",
    "\n",
    "n = int(input(\"Enter the range to sum:\"))\n",
    "\n",
    "print(reduce(sum,list(range(n))))"
   ]
  },
  {
   "cell_type": "markdown",
   "id": "monetary-summer",
   "metadata": {},
   "source": [
    "#### 5 Write a python program to find maximum from a list using reduce."
   ]
  },
  {
   "cell_type": "code",
   "execution_count": 16,
   "id": "expanded-principle",
   "metadata": {},
   "outputs": [
    {
     "name": "stdout",
     "output_type": "stream",
     "text": [
      "111\n"
     ]
    }
   ],
   "source": [
    "from functools import reduce\n",
    "\n",
    "l = [2,45,78,23,56,89,12,111]\n",
    "\n",
    "max = reduce(lambda a,b: a if a>b else b,l)\n",
    "\n",
    "print(max)"
   ]
  },
  {
   "cell_type": "markdown",
   "id": "amber-memorial",
   "metadata": {},
   "source": [
    "#### 6 Write a python program to find Armstrong numbers in a specific range using map\n"
   ]
  },
  {
   "cell_type": "code",
   "execution_count": 12,
   "id": "baking-hours",
   "metadata": {},
   "outputs": [
    {
     "name": "stdout",
     "output_type": "stream",
     "text": [
      "Enter Range : 10000\n",
      "[153, 370, 371, 407, 1634, 8208, 9474]\n"
     ]
    }
   ],
   "source": [
    "def Armstrong(n):\n",
    "    temp = n\n",
    "    sum = 0\n",
    "    order = len(str(n))\n",
    "\n",
    "    while temp>0:\n",
    "        digit = int(temp%10)\n",
    "        sum += digit**order\n",
    "        temp = int(temp/10)\n",
    "\n",
    "    if sum == n:\n",
    "        return n\n",
    "\n",
    "n = int(input(\"Enter Range : \"))\n",
    "\n",
    "d = list(map(Armstrong,range(10,n)))\n",
    "    \n",
    "c = list(filter(lambda x:x != None,d))\n",
    "\n",
    "print(c)"
   ]
  },
  {
   "cell_type": "markdown",
   "id": "critical-satellite",
   "metadata": {},
   "source": [
    "#### 7 Write a python program to apply two functions (square and cube) simultaneously on a specific range using map."
   ]
  },
  {
   "cell_type": "code",
   "execution_count": 16,
   "id": "involved-tucson",
   "metadata": {},
   "outputs": [
    {
     "name": "stdout",
     "output_type": "stream",
     "text": [
      "[[0, 0, 0], [1, 1, 1], [2, 4, 8], [3, 9, 27], [4, 16, 64], [5, 25, 125], [6, 36, 216], [7, 49, 343], [8, 64, 512], [9, 81, 729]]\n"
     ]
    }
   ],
   "source": [
    "def func(n):\n",
    "    return [n,n**2,n**3]\n",
    "\n",
    "n = 10\n",
    "\n",
    "a = list(map(func,range(10)))\n",
    "\n",
    "print(a)"
   ]
  },
  {
   "cell_type": "markdown",
   "id": "built-somalia",
   "metadata": {},
   "source": [
    "#### 8 Write python programs using (i) map/filter and function (ii) map/filter and lambda (iii) list comprehension\n",
    "##### • Create a list to store the cube of all the elements in a given list.\n",
    "##### • Create a list of equivalent Celsius degree from Fahrenheit.\n",
    "##### • Create a list that stores only positive numbers from given list.\n",
    "##### • Create a list that stores only alphabets from given list"
   ]
  },
  {
   "cell_type": "code",
   "execution_count": null,
   "id": "owned-vietnam",
   "metadata": {},
   "outputs": [],
   "source": []
  }
 ],
 "metadata": {
  "kernelspec": {
   "display_name": "Python 3",
   "language": "python",
   "name": "python3"
  },
  "language_info": {
   "codemirror_mode": {
    "name": "ipython",
    "version": 3
   },
   "file_extension": ".py",
   "mimetype": "text/x-python",
   "name": "python",
   "nbconvert_exporter": "python",
   "pygments_lexer": "ipython3",
   "version": "3.8.8"
  }
 },
 "nbformat": 4,
 "nbformat_minor": 5
}
