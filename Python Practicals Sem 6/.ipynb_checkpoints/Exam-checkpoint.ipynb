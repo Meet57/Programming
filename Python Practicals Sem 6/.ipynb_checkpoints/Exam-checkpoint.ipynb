{
 "cells": [
  {
   "cell_type": "code",
   "execution_count": 16,
   "id": "productive-cause",
   "metadata": {},
   "outputs": [
    {
     "name": "stdout",
     "output_type": "stream",
     "text": [
      "46\n",
      "{1: 12, (1, 2, 4): 8, (4, 2, 1): 10, (1, 2): 12}Meet"
     ]
    }
   ],
   "source": [
    "numberGames = {}\n",
    "numberGames[(1)] = 12\n",
    "numberGames[(1,2,4)] = 8\n",
    "numberGames[(4,2,1)] = 10\n",
    "numberGames[(1,2)] = 12\n",
    "sum = 0\n",
    "for k in numberGames:\n",
    "    sum += numberGames[k]\n",
    "    \n",
    "print(len(numberGames)+sum,numberGames,sep=\"\\n\",end=\"Meet\")"
   ]
  },
  {
   "cell_type": "code",
   "execution_count": 2,
   "id": "statistical-involvement",
   "metadata": {},
   "outputs": [
    {
     "name": "stdout",
     "output_type": "stream",
     "text": [
      "[[0, 1, 2], [1, 2, 3], [2, 3, 4]]\n"
     ]
    }
   ],
   "source": [
    "m = [[x,x+1,x+2] for x in range(3)]\n",
    "print(m)"
   ]
  },
  {
   "cell_type": "code",
   "execution_count": 3,
   "id": "administrative-reggae",
   "metadata": {},
   "outputs": [
    {
     "name": "stdout",
     "output_type": "stream",
     "text": [
      "[[-0.7, 1.5], [0, 3], [1, 2]]\n"
     ]
    }
   ],
   "source": [
    "points = [[1,2],[0,3],[-0.7,1.5]]\n",
    "points.sort()\n",
    "print(points)"
   ]
  },
  {
   "cell_type": "code",
   "execution_count": 4,
   "id": "promising-needle",
   "metadata": {},
   "outputs": [
    {
     "name": "stdout",
     "output_type": "stream",
     "text": [
      "<map object at 0x000002182C9E2CA0>\n",
      "[1, 2, 3]\n"
     ]
    }
   ],
   "source": [
    "elements = [0,1,2]\n",
    "def incr(x):\n",
    "    return x+1\n",
    "\n",
    "result = map(incr,elements)\n",
    "print(result)\n",
    "print(list(result))"
   ]
  },
  {
   "cell_type": "code",
   "execution_count": 5,
   "id": "demonstrated-supervision",
   "metadata": {},
   "outputs": [
    {
     "name": "stdout",
     "output_type": "stream",
     "text": [
      "[3, 2, 1, 0, 1, 4, 9]\n"
     ]
    }
   ],
   "source": [
    "def f(x,l=[]):\n",
    "    for i in range(x):\n",
    "        l.append(i*i)\n",
    "    print(l)\n",
    "    \n",
    "# f(4)\n",
    "f(4,[3,2,1]) \n",
    "# f(3)"
   ]
  },
  {
   "cell_type": "code",
   "execution_count": 1,
   "id": "buried-lease",
   "metadata": {},
   "outputs": [
    {
     "name": "stdout",
     "output_type": "stream",
     "text": [
      "[0, 1, 2, 0, 1, 2, 3, 4, 5, 6, 7, 8, 9]\n",
      "[0, 1, 2, 0, 1, 2, 3, 4, 5, 6, 7, 8, 9, range(0, 10), 5]\n"
     ]
    },
    {
     "ename": "TypeError",
     "evalue": "'int' object is not iterable",
     "output_type": "error",
     "traceback": [
      "\u001b[1;31m---------------------------------------------------------------------------\u001b[0m",
      "\u001b[1;31mTypeError\u001b[0m                                 Traceback (most recent call last)",
      "\u001b[1;32m<ipython-input-1-7a28fd7a9d49>\u001b[0m in \u001b[0;36m<module>\u001b[1;34m\u001b[0m\n\u001b[0;32m     12\u001b[0m \u001b[0mprint\u001b[0m\u001b[1;33m(\u001b[0m\u001b[0mli\u001b[0m\u001b[1;33m)\u001b[0m\u001b[1;33m\u001b[0m\u001b[1;33m\u001b[0m\u001b[0m\n\u001b[0;32m     13\u001b[0m \u001b[1;33m\u001b[0m\u001b[0m\n\u001b[1;32m---> 14\u001b[1;33m \u001b[0mli\u001b[0m\u001b[1;33m.\u001b[0m\u001b[0mextend\u001b[0m\u001b[1;33m(\u001b[0m\u001b[0mx\u001b[0m\u001b[1;33m)\u001b[0m\u001b[1;33m\u001b[0m\u001b[1;33m\u001b[0m\u001b[0m\n\u001b[0m",
      "\u001b[1;31mTypeError\u001b[0m: 'int' object is not iterable"
     ]
    }
   ],
   "source": [
    "l = range(10) #[3,4,5]\n",
    "x = 3\n",
    "li = [0,1,2]\n",
    "\n",
    "li.extend(l)\n",
    "\n",
    "print(li)\n",
    "\n",
    "li.append(l)\n",
    "li.append(5)\n",
    "\n",
    "print(li)\n",
    "\n",
    "li.extend(x)"
   ]
  },
  {
   "cell_type": "code",
   "execution_count": 10,
   "id": "invisible-breath",
   "metadata": {},
   "outputs": [
    {
     "name": "stdout",
     "output_type": "stream",
     "text": [
      "3 < 3\n",
      "3 < 4\n",
      "Value changes\n",
      "4 < 5\n",
      "Value changes\n",
      "5 < 1\n",
      "5 < 33\n",
      "Value changes\n",
      "33 < 6\n",
      "33 < 1\n",
      "33 < 2\n",
      "33\n"
     ]
    }
   ],
   "source": [
    "values = [[3,4,5,1],[33,6,1,2]]\n",
    "v = values[0][0] #3\n",
    "\n",
    "for row in range(len(values)): #2 (0,1)\n",
    "    for columns in range(len(values[row])): #0-4-0,1,2,3 ########### 1-4-0,1,2,3\n",
    "        if v < values[row][columns]:\n",
    "            v = values[row][columns]\n",
    "print(v)"
   ]
  },
  {
   "cell_type": "code",
   "execution_count": 12,
   "id": "understanding-prophet",
   "metadata": {},
   "outputs": [
    {
     "name": "stdout",
     "output_type": "stream",
     "text": [
      "3 < 3\n",
      "3 < 4\n",
      "Value changes\n",
      "4 < 5\n",
      "Value changes\n",
      "5 < 1\n",
      "5 < 33\n",
      "Value changes\n",
      "33 < 6\n",
      "33 < 1\n",
      "33 < 2\n",
      "\n",
      "\n",
      "\n",
      " 33\n"
     ]
    }
   ],
   "source": [
    "values = [[3,4,5,1],[33,6,1,2]]\n",
    "v = values[0][0] #3\n",
    "\n",
    "for row in range(len(values)): #2 (0,1)\n",
    "    for columns in range(len(values[row])): ########0-4-0,1,2,3 ########### 1-4-0,1,2,3\n",
    "        print(v,values[row][columns],sep=\" < \")\n",
    "        if v < values[row][columns]:\n",
    "            print(\"Value changes\")\n",
    "            v = values[row][columns]\n",
    "print(\"\\n\\n\\n\",v)"
   ]
  },
  {
   "cell_type": "code",
   "execution_count": 18,
   "id": "smart-integrity",
   "metadata": {},
   "outputs": [
    {
     "name": "stdout",
     "output_type": "stream",
     "text": [
      "a---b---c\n",
      "1-2-3\n"
     ]
    },
    {
     "ename": "TypeError",
     "evalue": "sequence item 0: expected str instance, int found",
     "output_type": "error",
     "traceback": [
      "\u001b[1;31m---------------------------------------------------------------------------\u001b[0m",
      "\u001b[1;31mTypeError\u001b[0m                                 Traceback (most recent call last)",
      "\u001b[1;32m<ipython-input-18-bbf42cff1b6b>\u001b[0m in \u001b[0;36m<module>\u001b[1;34m\u001b[0m\n\u001b[0;32m      6\u001b[0m \u001b[1;33m\u001b[0m\u001b[0m\n\u001b[0;32m      7\u001b[0m \u001b[0ml\u001b[0m \u001b[1;33m=\u001b[0m \u001b[1;33m[\u001b[0m\u001b[1;36m1\u001b[0m\u001b[1;33m,\u001b[0m\u001b[1;36m2\u001b[0m\u001b[1;33m,\u001b[0m\u001b[1;36m3\u001b[0m\u001b[1;33m]\u001b[0m\u001b[1;33m\u001b[0m\u001b[1;33m\u001b[0m\u001b[0m\n\u001b[1;32m----> 8\u001b[1;33m \u001b[0mprint\u001b[0m\u001b[1;33m(\u001b[0m\u001b[1;34m'-'\u001b[0m\u001b[1;33m.\u001b[0m\u001b[0mjoin\u001b[0m\u001b[1;33m(\u001b[0m\u001b[0ml\u001b[0m\u001b[1;33m)\u001b[0m\u001b[1;33m)\u001b[0m\u001b[1;33m\u001b[0m\u001b[1;33m\u001b[0m\u001b[0m\n\u001b[0m",
      "\u001b[1;31mTypeError\u001b[0m: sequence item 0: expected str instance, int found"
     ]
    }
   ],
   "source": [
    "l = ['a','b','c']\n",
    "print('---'.join(l))\n",
    "\n",
    "l = [1,2,3]\n",
    "print('-'.join(map(str,l))) # map = ['1','2','3'] # 1-2-3\n",
    "\n",
    "l = [1,2,3]\n",
    "print('-'.join(l))"
   ]
  },
  {
   "cell_type": "code",
   "execution_count": 8,
   "id": "guilty-movie",
   "metadata": {},
   "outputs": [
    {
     "name": "stdout",
     "output_type": "stream",
     "text": [
      "8\n"
     ]
    }
   ],
   "source": [
    "x = [12.1,34.0]\n",
    "\n",
    "print(len(''.join(list(map(str,x))))) #(12.134.0) 8"
   ]
  },
  {
   "cell_type": "code",
   "execution_count": 20,
   "id": "optional-michigan",
   "metadata": {},
   "outputs": [
    {
     "name": "stdout",
     "output_type": "stream",
     "text": [
      "4\n"
     ]
    }
   ],
   "source": [
    "data = [[[1,2],[3,4]],[[5,6],[7,8]]]\n",
    "\n",
    "def ttt(m): #[[1,2],[3,4]]\n",
    "    v = m[0][0] #1\n",
    "    for row in m: # row =  [1,2],[3,4]\n",
    "        for ele in row: # ele 1,2,3,4\n",
    "            if v < ele: v = ele\n",
    "    return v \n",
    "\n",
    "print(ttt(data[0])) #[[1,2],[3,4]]"
   ]
  },
  {
   "cell_type": "code",
   "execution_count": 26,
   "id": "underlying-clothing",
   "metadata": {},
   "outputs": [
    {
     "name": "stdout",
     "output_type": "stream",
     "text": [
      "5\n",
      "\n",
      "\n",
      "Meet\n",
      "\n",
      "Patel\n"
     ]
    }
   ],
   "source": [
    "def add():\n",
    "    a = 2+3\n",
    "    return a\n",
    "\n",
    "print(add())\n",
    "\n",
    "\n",
    "print()\n",
    "print()\n",
    "print(\"Meet\")\n",
    "print()\n",
    "print(\"Patel\")"
   ]
  },
  {
   "cell_type": "code",
   "execution_count": 28,
   "id": "experimental-volleyball",
   "metadata": {},
   "outputs": [
    {
     "ename": "SyntaxError",
     "evalue": "invalid syntax (<ipython-input-28-f09262eb8af6>, line 3)",
     "output_type": "error",
     "traceback": [
      "\u001b[1;36m  File \u001b[1;32m\"<ipython-input-28-f09262eb8af6>\"\u001b[1;36m, line \u001b[1;32m3\u001b[0m\n\u001b[1;33m    if 1<2 print(\"True\")\u001b[0m\n\u001b[1;37m           ^\u001b[0m\n\u001b[1;31mSyntaxError\u001b[0m\u001b[1;31m:\u001b[0m invalid syntax\n"
     ]
    }
   ],
   "source": [
    "if 1<2 : print(\"True\")\n",
    "\n",
    "# if 1<2 print(\"True\") \n",
    "# error: invalid syntax"
   ]
  },
  {
   "cell_type": "code",
   "execution_count": 11,
   "id": "gross-annual",
   "metadata": {},
   "outputs": [
    {
     "name": "stdout",
     "output_type": "stream",
     "text": [
      "[1, 2]\n",
      "1\n",
      "2\n",
      "-------\n",
      "[3, 4]\n",
      "3\n",
      "4\n",
      "-------\n"
     ]
    }
   ],
   "source": [
    "l = [[1,2],[3,4]]\n",
    "\n",
    "for row in l:\n",
    "    print(row)\n",
    "    for ele in row:\n",
    "        print(ele)\n",
    "    print(\"-------\")"
   ]
  },
  {
   "cell_type": "code",
   "execution_count": 12,
   "id": "neutral-crazy",
   "metadata": {},
   "outputs": [
    {
     "name": "stdout",
     "output_type": "stream",
     "text": [
      "True\n",
      "False\n"
     ]
    }
   ],
   "source": [
    "from math import log\n",
    "\n",
    "def powerOfTwo(m):\n",
    "    a = log(m,2)\n",
    "    b = int(a)\n",
    "    c = a - b\n",
    "    \n",
    "    if c==0:\n",
    "        return True\n",
    "    else:\n",
    "        return False\n",
    "    \n",
    "print(powerOfTwo(32))\n",
    "print(powerOfTwo(17))"
   ]
  },
  {
   "cell_type": "code",
   "execution_count": 31,
   "id": "expected-phase",
   "metadata": {},
   "outputs": [
    {
     "ename": "TypeError",
     "evalue": "list indices must be integers or slices, not str",
     "output_type": "error",
     "traceback": [
      "\u001b[1;31m---------------------------------------------------------------------------\u001b[0m",
      "\u001b[1;31mTypeError\u001b[0m                                 Traceback (most recent call last)",
      "\u001b[1;32m<ipython-input-31-60ecf3df6b4f>\u001b[0m in \u001b[0;36m<module>\u001b[1;34m\u001b[0m\n\u001b[0;32m      5\u001b[0m         \u001b[0mcountry_counter\u001b[0m\u001b[1;33m[\u001b[0m\u001b[0mcountry\u001b[0m\u001b[1;33m]\u001b[0m \u001b[1;33m=\u001b[0m \u001b[1;36m1\u001b[0m\u001b[1;33m\u001b[0m\u001b[1;33m\u001b[0m\u001b[0m\n\u001b[0;32m      6\u001b[0m \u001b[1;33m\u001b[0m\u001b[0m\n\u001b[1;32m----> 7\u001b[1;33m \u001b[0maddone\u001b[0m\u001b[1;33m(\u001b[0m\u001b[1;34m\"China\"\u001b[0m\u001b[1;33m)\u001b[0m\u001b[1;33m\u001b[0m\u001b[1;33m\u001b[0m\u001b[0m\n\u001b[0m\u001b[0;32m      8\u001b[0m \u001b[0maddone\u001b[0m\u001b[1;33m(\u001b[0m\u001b[1;34m\"Japan\"\u001b[0m\u001b[1;33m)\u001b[0m\u001b[1;33m\u001b[0m\u001b[1;33m\u001b[0m\u001b[0m\n\u001b[0;32m      9\u001b[0m \u001b[0maddone\u001b[0m\u001b[1;33m(\u001b[0m\u001b[1;34m\"china\"\u001b[0m\u001b[1;33m)\u001b[0m\u001b[1;33m\u001b[0m\u001b[1;33m\u001b[0m\u001b[0m\n",
      "\u001b[1;32m<ipython-input-31-60ecf3df6b4f>\u001b[0m in \u001b[0;36maddone\u001b[1;34m(country)\u001b[0m\n\u001b[0;32m      3\u001b[0m         \u001b[0mcountry_counter\u001b[0m\u001b[1;33m[\u001b[0m\u001b[0mcountry\u001b[0m\u001b[1;33m]\u001b[0m \u001b[1;33m+=\u001b[0m \u001b[1;36m1\u001b[0m\u001b[1;33m\u001b[0m\u001b[1;33m\u001b[0m\u001b[0m\n\u001b[0;32m      4\u001b[0m     \u001b[1;32melse\u001b[0m\u001b[1;33m:\u001b[0m\u001b[1;33m\u001b[0m\u001b[1;33m\u001b[0m\u001b[0m\n\u001b[1;32m----> 5\u001b[1;33m         \u001b[0mcountry_counter\u001b[0m\u001b[1;33m[\u001b[0m\u001b[0mcountry\u001b[0m\u001b[1;33m]\u001b[0m \u001b[1;33m=\u001b[0m \u001b[1;36m1\u001b[0m\u001b[1;33m\u001b[0m\u001b[1;33m\u001b[0m\u001b[0m\n\u001b[0m\u001b[0;32m      6\u001b[0m \u001b[1;33m\u001b[0m\u001b[0m\n\u001b[0;32m      7\u001b[0m \u001b[0maddone\u001b[0m\u001b[1;33m(\u001b[0m\u001b[1;34m\"China\"\u001b[0m\u001b[1;33m)\u001b[0m\u001b[1;33m\u001b[0m\u001b[1;33m\u001b[0m\u001b[0m\n",
      "\u001b[1;31mTypeError\u001b[0m: list indices must be integers or slices, not str"
     ]
    }
   ],
   "source": [
    "def addone(country):\n",
    "    if country in country_counter:\n",
    "        country_counter[country] += 1\n",
    "    else:\n",
    "        country_counter[country] = 1        \n",
    "        \n",
    "addone(\"China\")\n",
    "addone(\"Japan\")\n",
    "addone(\"china\")\n",
    "\n",
    "print(len(country_counter))"
   ]
  },
  {
   "cell_type": "code",
   "execution_count": 14,
   "id": "lonely-childhood",
   "metadata": {},
   "outputs": [
    {
     "name": "stdout",
     "output_type": "stream",
     "text": [
      "3\n"
     ]
    }
   ],
   "source": [
    "sum = lambda a,b : a+b\n",
    "\n",
    "print(sum(1,2))"
   ]
  },
  {
   "cell_type": "code",
   "execution_count": 32,
   "id": "prospective-introduction",
   "metadata": {},
   "outputs": [
    {
     "ename": "NameError",
     "evalue": "name 'cmp' is not defined",
     "output_type": "error",
     "traceback": [
      "\u001b[1;31m---------------------------------------------------------------------------\u001b[0m",
      "\u001b[1;31mNameError\u001b[0m                                 Traceback (most recent call last)",
      "\u001b[1;32m<ipython-input-32-cccb69f1c759>\u001b[0m in \u001b[0;36m<module>\u001b[1;34m\u001b[0m\n\u001b[0;32m      1\u001b[0m \u001b[0mt1\u001b[0m\u001b[1;33m,\u001b[0m\u001b[0mt2\u001b[0m \u001b[1;33m=\u001b[0m \u001b[1;33m(\u001b[0m\u001b[1;36m123\u001b[0m\u001b[1;33m,\u001b[0m\u001b[1;34m'xyz'\u001b[0m\u001b[1;33m)\u001b[0m\u001b[1;33m,\u001b[0m\u001b[1;33m(\u001b[0m\u001b[1;36m456\u001b[0m\u001b[1;33m,\u001b[0m\u001b[1;34m'abc'\u001b[0m\u001b[1;33m)\u001b[0m\u001b[1;33m\u001b[0m\u001b[1;33m\u001b[0m\u001b[0m\n\u001b[0;32m      2\u001b[0m \u001b[1;33m\u001b[0m\u001b[0m\n\u001b[1;32m----> 3\u001b[1;33m \u001b[0mprint\u001b[0m\u001b[1;33m(\u001b[0m\u001b[0mcmp\u001b[0m\u001b[1;33m(\u001b[0m\u001b[0mt1\u001b[0m\u001b[1;33m,\u001b[0m\u001b[0mt2\u001b[0m\u001b[1;33m)\u001b[0m\u001b[1;33m)\u001b[0m \u001b[1;31m#-1\u001b[0m\u001b[1;33m\u001b[0m\u001b[1;33m\u001b[0m\u001b[0m\n\u001b[0m\u001b[0;32m      4\u001b[0m \u001b[0mprint\u001b[0m\u001b[1;33m(\u001b[0m\u001b[0mcmp\u001b[0m\u001b[1;33m(\u001b[0m\u001b[0mt2\u001b[0m\u001b[1;33m,\u001b[0m\u001b[0mt1\u001b[0m\u001b[1;33m)\u001b[0m\u001b[1;33m)\u001b[0m \u001b[1;31m#1\u001b[0m\u001b[1;33m\u001b[0m\u001b[1;33m\u001b[0m\u001b[0m\n\u001b[0;32m      5\u001b[0m \u001b[1;33m\u001b[0m\u001b[0m\n",
      "\u001b[1;31mNameError\u001b[0m: name 'cmp' is not defined"
     ]
    }
   ],
   "source": [
    "t1,t2 = (123,'xyz'),(456,'abc')\n",
    "\n",
    "print(cmp(t1,t2)) #-1\n",
    "print(cmp(t2,t1)) #1\n",
    "\n",
    "q1 = (5,'ab')\n",
    "q2 = (5,'ab')\n",
    "\n",
    "print(cmp(q1,q2)) #0"
   ]
  },
  {
   "cell_type": "code",
   "execution_count": 40,
   "id": "smooth-arctic",
   "metadata": {},
   "outputs": [
    {
     "name": "stdout",
     "output_type": "stream",
     "text": [
      "{1, 2, 3}\t{1, 2, 3}\n",
      "\n",
      "True\n",
      "False\n"
     ]
    }
   ],
   "source": [
    "a = [1,2,3]\n",
    "b = [1,1,2,3]\n",
    "\n",
    "print(set(a),set(b),sep=\"\\t\",end=\"\\n\\n\")\n",
    "\n",
    "print(set(a)==set(b))\n",
    "print(a==b)"
   ]
  },
  {
   "cell_type": "code",
   "execution_count": 45,
   "id": "hired-distribution",
   "metadata": {},
   "outputs": [
    {
     "name": "stdout",
     "output_type": "stream",
     "text": [
      "{True, 'cherry', 'apple'}\n"
     ]
    }
   ],
   "source": [
    "thisset = set([\"apple\", True, \"cherry\"]) # note the double round-brackets\n",
    "print(thisset)"
   ]
  },
  {
   "cell_type": "code",
   "execution_count": 36,
   "id": "interracial-attempt",
   "metadata": {},
   "outputs": [
    {
     "data": {
      "text/plain": [
       "[1, 2, 3]"
      ]
     },
     "execution_count": 36,
     "metadata": {},
     "output_type": "execute_result"
    }
   ],
   "source": [
    "l1 = [1,1,2,3]\n",
    "s1 = list(set(l1))\n",
    "s1"
   ]
  },
  {
   "cell_type": "code",
   "execution_count": 38,
   "id": "noticed-arrow",
   "metadata": {},
   "outputs": [
    {
     "data": {
      "text/plain": [
       "(0, 1, 2, 3, 4, 5, 6, 7, 8, 9)"
      ]
     },
     "execution_count": 38,
     "metadata": {},
     "output_type": "execute_result"
    }
   ],
   "source": [
    "tuple(list(range(10)))"
   ]
  },
  {
   "cell_type": "code",
   "execution_count": 31,
   "id": "incorrect-printer",
   "metadata": {},
   "outputs": [
    {
     "name": "stdout",
     "output_type": "stream",
     "text": [
      "100\n",
      "100\n",
      "100\n"
     ]
    }
   ],
   "source": [
    "a = 100\n",
    "\n",
    "def asd():\n",
    "    print(a)\n",
    "#     a = 10\n",
    "    print(a)\n",
    "    \n",
    "\n",
    "asd()\n",
    "print(a)"
   ]
  },
  {
   "cell_type": "code",
   "execution_count": 49,
   "id": "preceding-content",
   "metadata": {},
   "outputs": [
    {
     "data": {
      "text/plain": [
       "[[1], [1], [1], [1]]"
      ]
     },
     "execution_count": 49,
     "metadata": {},
     "output_type": "execute_result"
    }
   ],
   "source": [
    "[[1]]*4"
   ]
  },
  {
   "cell_type": "code",
   "execution_count": 54,
   "id": "coral-baking",
   "metadata": {},
   "outputs": [
    {
     "data": {
      "text/plain": [
       "[[[0, 0, 0, 0], [0, 0, 0, 0]], [[0, 0, 0, 0], [0, 0, 0, 0]]]"
      ]
     },
     "execution_count": 54,
     "metadata": {},
     "output_type": "execute_result"
    }
   ],
   "source": [
    "[[[0]*4]*2]*2"
   ]
  },
  {
   "cell_type": "code",
   "execution_count": 47,
   "id": "nearby-chemical",
   "metadata": {},
   "outputs": [
    {
     "data": {
      "text/plain": [
       "'aaaa'"
      ]
     },
     "execution_count": 47,
     "metadata": {},
     "output_type": "execute_result"
    }
   ],
   "source": [
    "'a' * 4"
   ]
  },
  {
   "cell_type": "code",
   "execution_count": 58,
   "id": "quiet-atlas",
   "metadata": {},
   "outputs": [
    {
     "data": {
      "text/plain": [
       "[0, 0, 0, 0, 3]"
      ]
     },
     "execution_count": 58,
     "metadata": {},
     "output_type": "execute_result"
    }
   ],
   "source": [
    "l = [1,2,3]\n",
    "s = [0,0,0,0]\n",
    "\n",
    "l[:2] = s\n",
    "l"
   ]
  },
  {
   "cell_type": "code",
   "execution_count": 56,
   "id": "burning-refrigerator",
   "metadata": {},
   "outputs": [
    {
     "name": "stdout",
     "output_type": "stream",
     "text": [
      "[[[2, 0, 0, 0], [2, 0, 0, 0]], [[2, 0, 0, 0], [2, 0, 0, 0]]]\n",
      "[[[2, 0, 0, 0], [2, 0, 0, 0]], [[2, 0, 0, 0], [2, 0, 0, 0]], 3]\n"
     ]
    }
   ],
   "source": [
    "l = [1,2,3]\n",
    "check = [[[0]*4]*2]*2 \n",
    "check[0][1][0] = 2\n",
    "print(check)\n",
    "l[:len(l)-1] = check\n",
    "print(l)"
   ]
  },
  {
   "cell_type": "code",
   "execution_count": 56,
   "id": "sticky-nutrition",
   "metadata": {},
   "outputs": [
    {
     "name": "stdout",
     "output_type": "stream",
     "text": [
      "None\n",
      "22\n",
      "====Final====\n",
      "[11, 44, 55]\n"
     ]
    }
   ],
   "source": [
    "l = [11,22,33,44,55]\n",
    "\n",
    "print(l.remove(33)) # remove fucntion need element of list to remove and return None\n",
    "print(l.pop(1)) # pop function need index of list to remove and return\n",
    "\n",
    "print(\"====Final====\")\n",
    "print(l)"
   ]
  },
  {
   "cell_type": "code",
   "execution_count": 49,
   "id": "brutal-hostel",
   "metadata": {},
   "outputs": [
    {
     "name": "stdout",
     "output_type": "stream",
     "text": [
      "abc\n",
      "z\n",
      "None\n",
      "[123, 'safe']\n"
     ]
    }
   ],
   "source": [
    "a = [123,'x','z','safe','x','abc']\n",
    "\n",
    "print(a.pop()) # [123,'x','z','safe','x']\n",
    "print(a.pop(2)) # [123,'x','safe','x']\n",
    "\n",
    "a.remove(a.pop(1)) # [123,'safe']\n",
    "\n",
    "print(a)"
   ]
  },
  {
   "cell_type": "code",
   "execution_count": 81,
   "id": "statutory-voice",
   "metadata": {},
   "outputs": [
    {
     "name": "stdout",
     "output_type": "stream",
     "text": [
      "1a0002b000300040005\n"
     ]
    }
   ],
   "source": [
    "s = ['1a','2b','3','4','5']\n",
    "j = '000'.join(s)\n",
    "print(j)"
   ]
  },
  {
   "cell_type": "code",
   "execution_count": 95,
   "id": "classical-backup",
   "metadata": {},
   "outputs": [
    {
     "name": "stdout",
     "output_type": "stream",
     "text": [
      "<class 'function'>\n",
      "<class 'str'>\n",
      "<class 'type'>\n",
      "<class 'type'>\n",
      "<class 'int'>\n",
      "<class 'float'>\n",
      "<class 'bool'>\n"
     ]
    }
   ],
   "source": [
    "print(type(lambda:none))\n",
    "print(type(\"Adani\"))\n",
    "print(type(int))\n",
    "print(type(float))\n",
    "print(type(1))\n",
    "print(type(1.1))\n",
    "print(type(True))"
   ]
  },
  {
   "cell_type": "code",
   "execution_count": 57,
   "id": "revised-corps",
   "metadata": {},
   "outputs": [
    {
     "name": "stdout",
     "output_type": "stream",
     "text": [
      "False\n",
      "True\n"
     ]
    }
   ],
   "source": [
    "text = \"Adani\"\n",
    "result = text.endswith(\"Gautam\")\n",
    "\n",
    "print(result)\n",
    "\n",
    "text = \"Adani\"\n",
    "result = text.endswith(\"ni\")\n",
    "\n",
    "print(result)"
   ]
  },
  {
   "cell_type": "code",
   "execution_count": 59,
   "id": "measured-humidity",
   "metadata": {},
   "outputs": [
    {
     "name": "stdout",
     "output_type": "stream",
     "text": [
      "enumerate function do this :  [(0, 'a'), (1, 'b'), (2, 'c')]\n",
      "['a', 'b', 'c'] [False, [1], [2]]\n"
     ]
    }
   ],
   "source": [
    "l1 = ['a','b','c']\n",
    "l2 = []\n",
    "\n",
    "print(\"enumerate function do this : \",list(enumerate(l1)))\n",
    "\n",
    "for v,i in enumerate(l1):\n",
    "    l2.append([v])\n",
    "\n",
    "l2[0] = False\n",
    "print(l1,l2)"
   ]
  },
  {
   "cell_type": "code",
   "execution_count": 60,
   "id": "floating-springfield",
   "metadata": {},
   "outputs": [
    {
     "name": "stdout",
     "output_type": "stream",
     "text": [
      "False\n",
      "True\n"
     ]
    }
   ],
   "source": [
    "a = 0\n",
    "print(bool(a))\n",
    "\n",
    "a = 5\n",
    "print(bool(a))"
   ]
  },
  {
   "cell_type": "code",
   "execution_count": 7,
   "id": "surprised-circulation",
   "metadata": {},
   "outputs": [
    {
     "name": "stdout",
     "output_type": "stream",
     "text": [
      "1\n"
     ]
    },
    {
     "data": {
      "text/plain": [
       "{2, 3, 4, 5}"
      ]
     },
     "execution_count": 7,
     "metadata": {},
     "output_type": "execute_result"
    }
   ],
   "source": [
    "s = set([1,2,3,4,5])\n",
    "print(s.pop())\n",
    "# s.append(1)\n",
    "s"
   ]
  },
  {
   "cell_type": "code",
   "execution_count": 16,
   "id": "animal-oakland",
   "metadata": {},
   "outputs": [
    {
     "name": "stdout",
     "output_type": "stream",
     "text": [
      "{'google', 'microsoft', 'banana', 'apple', 'cherry'}\n"
     ]
    }
   ],
   "source": [
    "x = {\"apple\", \"banana\", \"cherry\"}\n",
    "y = {\"google\", \"microsoft\", \"apple\"}\n",
    "\n",
    "z = x.union(y)\n",
    "\n",
    "print(z)"
   ]
  },
  {
   "cell_type": "code",
   "execution_count": 17,
   "id": "prerequisite-investor",
   "metadata": {},
   "outputs": [
    {
     "name": "stdout",
     "output_type": "stream",
     "text": [
      "{'b', 'd', 'c', 'f', 'a', 'e'}\n"
     ]
    }
   ],
   "source": [
    "x = {\"a\", \"b\", \"c\"}\n",
    "y = {\"f\", \"d\", \"a\"}\n",
    "z = {\"c\", \"d\", \"e\"}\n",
    "\n",
    "result = x.union(y, z)\n",
    "\n",
    "print(result)"
   ]
  },
  {
   "cell_type": "code",
   "execution_count": 24,
   "id": "unlimited-republic",
   "metadata": {},
   "outputs": [
    {
     "name": "stdout",
     "output_type": "stream",
     "text": [
      "The filtered vowels are:\n",
      "<filter object at 0x00000216A7D428B0>\n",
      "['a', 'e', 'i', 'o']\n"
     ]
    }
   ],
   "source": [
    "# list of letters\n",
    "letters = ['a', 'b', 'd', 'e', 'i', 'j', 'o']\n",
    "\n",
    "# function that filters vowels\n",
    "def filterVowels(letter):\n",
    "    vowels = ['a', 'e', 'i', 'o', 'u']\n",
    "\n",
    "    if(letter in vowels):\n",
    "        return True\n",
    "    else:\n",
    "        return False\n",
    "\n",
    "filteredVowels = filter(filterVowels, letters)\n",
    "\n",
    "print('The filtered vowels are:')\n",
    "print(filteredVowels)\n",
    "print(list(filteredVowels))"
   ]
  },
  {
   "cell_type": "code",
   "execution_count": 25,
   "id": "collect-probability",
   "metadata": {},
   "outputs": [
    {
     "name": "stdout",
     "output_type": "stream",
     "text": [
      "<filter object at 0x00000216A7D332E0>\n",
      "[-10, -9, -8, -7, -6, -5, -4, -3, -2, -1, 0, 1, 2, 3, 4, 5, 6, 7, 8, 9, 10]\n"
     ]
    }
   ],
   "source": [
    "print(filter(lambda x : (x%2) +4,range(-10,11)))\n",
    "\n",
    "\n",
    "print(list(filter(lambda x : (x%2) +4,range(-10,11))))"
   ]
  },
  {
   "cell_type": "code",
   "execution_count": 38,
   "id": "copyrighted-velvet",
   "metadata": {},
   "outputs": [
    {
     "name": "stdout",
     "output_type": "stream",
     "text": [
      "50\n",
      "2\n",
      "2\n"
     ]
    }
   ],
   "source": [
    "x = 50\n",
    "def func():\n",
    "    global x\n",
    "    print(x)\n",
    "    x = 2\n",
    "    print(x)\n",
    "func()\n",
    "print(x)"
   ]
  },
  {
   "cell_type": "code",
   "execution_count": 62,
   "id": "recognized-fantasy",
   "metadata": {},
   "outputs": [
    {
     "name": "stdout",
     "output_type": "stream",
     "text": [
      "3628800\n",
      "[1, 2, 3, 4, 5, 6, 7, 8, 9, 10]\n"
     ]
    }
   ],
   "source": [
    "from functools import reduce\n",
    "\n",
    "def add(a,b):\n",
    "    return a * b\n",
    "\n",
    "l = [1, 2, 3, 4, 5, 6, 7, 8, 9, 10]\n",
    "\n",
    "redobj = reduce(add,l)\n",
    "\n",
    "print(redobj)\n",
    "print(l)"
   ]
  },
  {
   "cell_type": "code",
   "execution_count": 63,
   "id": "molecular-facility",
   "metadata": {},
   "outputs": [
    {
     "name": "stdout",
     "output_type": "stream",
     "text": [
      "<filter object at 0x0000024E1B514A60>\n",
      "[]\n"
     ]
    }
   ],
   "source": [
    "print(filter(lambda x:x+10,range(0,reduce(lambda x,y : x*y,range(0,15)))))\n",
    "\n",
    "print(list(filter(lambda x:x+10,range(0,reduce(lambda x,y : x*y,range(0,15))))))\n",
    "\n",
    "### bcoz range(0,0) is []"
   ]
  },
  {
   "cell_type": "code",
   "execution_count": 54,
   "id": "fabulous-worth",
   "metadata": {},
   "outputs": [
    {
     "name": "stdout",
     "output_type": "stream",
     "text": [
      "[1, 2, 3]\n"
     ]
    }
   ],
   "source": [
    "def f(i,values = []):\n",
    "    values.append(i)\n",
    "    return values\n",
    "\n",
    "f(1)\n",
    "f(2)\n",
    "v = f(3)\n",
    "print(v)"
   ]
  },
  {
   "cell_type": "code",
   "execution_count": 67,
   "id": "sonic-matter",
   "metadata": {},
   "outputs": [
    {
     "name": "stdout",
     "output_type": "stream",
     "text": [
      "rr\n",
      "qq\n",
      "pp\n"
     ]
    }
   ],
   "source": [
    "for x in set('pqr'):\n",
    "    print(x*2)"
   ]
  },
  {
   "cell_type": "code",
   "execution_count": 68,
   "id": "decent-tuning",
   "metadata": {},
   "outputs": [
    {
     "data": {
      "text/plain": [
       "{'p', 'q', 'r'}"
      ]
     },
     "execution_count": 68,
     "metadata": {},
     "output_type": "execute_result"
    }
   ],
   "source": [
    "set('pqr')"
   ]
  },
  {
   "cell_type": "code",
   "execution_count": 98,
   "id": "amended-binding",
   "metadata": {},
   "outputs": [
    {
     "data": {
      "text/plain": [
       "[0, 1, 2, 3, 4, 6, 7, 8, 9, 10]"
      ]
     },
     "execution_count": 98,
     "metadata": {},
     "output_type": "execute_result"
    }
   ],
   "source": [
    "# for i in range(10):\n",
    "#     print(i)\n",
    "\n",
    "a = [i if i<5 else i+1 for i in range(10)]\n",
    "a"
   ]
  },
  {
   "cell_type": "code",
   "execution_count": 80,
   "id": "figured-heating",
   "metadata": {},
   "outputs": [
    {
     "name": "stdout",
     "output_type": "stream",
     "text": [
      "\n",
      "None\n",
      "None\n"
     ]
    }
   ],
   "source": [
    "print(print(print()))"
   ]
  },
  {
   "cell_type": "code",
   "execution_count": 99,
   "id": "cooked-junior",
   "metadata": {},
   "outputs": [
    {
     "data": {
      "text/plain": [
       "[(0, 0), (0, 1), (0, 2), (1, 0), (1, 1), (1, 2), (2, 0), (2, 1), (2, 2)]"
      ]
     },
     "execution_count": 99,
     "metadata": {},
     "output_type": "execute_result"
    }
   ],
   "source": [
    "# for i in range(3):\n",
    "#     for j in range(3):\n",
    "#         print(i,j)\n",
    "\n",
    "a = [(i,j) for i in range(3) for j in range(3)]\n",
    "a"
   ]
  },
  {
   "cell_type": "code",
   "execution_count": 105,
   "id": "reverse-bowling",
   "metadata": {},
   "outputs": [
    {
     "name": "stdout",
     "output_type": "stream",
     "text": [
      "None\n"
     ]
    }
   ],
   "source": [
    "def add(a,b):\n",
    "    c = a+b\n",
    "#     return c\n",
    "    \n",
    "print(add(1,2))"
   ]
  },
  {
   "cell_type": "code",
   "execution_count": 119,
   "id": "refined-chassis",
   "metadata": {},
   "outputs": [
    {
     "name": "stdout",
     "output_type": "stream",
     "text": [
      "brand : Ford\n",
      "model : Mustang\n",
      "year : 1964\n",
      "\n",
      "Ford\n",
      "Mustang\n",
      "1964\n",
      "\n",
      "brand\n",
      "model\n",
      "year\n",
      "\n",
      "dict_items([('brand', 'Ford'), ('model', 'Mustang'), ('year', 1964)])\n"
     ]
    }
   ],
   "source": [
    "di ={\n",
    "  \"brand\": \"Ford\",\n",
    "  \"model\": \"Mustang\",\n",
    "  \"year\": 1964\n",
    "}\n",
    "\n",
    "for x,y in di.items():\n",
    "  print(x,y,sep=\" : \")\n",
    "\n",
    "print()\n",
    "for x in di.values():\n",
    "    print(x)\n",
    "\n",
    "print()\n",
    "for x in di:\n",
    "    print(x)\n",
    "    \n",
    "print()\n",
    "print(di.items())"
   ]
  },
  {
   "cell_type": "code",
   "execution_count": 74,
   "id": "historical-palestinian",
   "metadata": {},
   "outputs": [
    {
     "name": "stdout",
     "output_type": "stream",
     "text": [
      "[[0, 0, 0, 0, 0], [0], 1, 2, 3]\n",
      "5\n"
     ]
    }
   ],
   "source": [
    "l = [[0],1,2,3]\n",
    "l[:len(l)-8] = [[0]*5]\n",
    "\n",
    "print(l)\n",
    "print(len(l))"
   ]
  },
  {
   "cell_type": "code",
   "execution_count": 69,
   "id": "green-universal",
   "metadata": {},
   "outputs": [
    {
     "name": "stdout",
     "output_type": "stream",
     "text": [
      "I Am Best In This World\n",
      "\n",
      "I am best in this world\n",
      "\n",
      "True\n",
      "\n",
      "False\n"
     ]
    }
   ],
   "source": [
    "print(\"i am best in this world\".title())\n",
    "print()\n",
    "print(\"i am best in this world\".capitalize())\n",
    "print()\n",
    "print(\"Adani Gautam\".istitle())\n",
    "print()\n",
    "print(\"Adani gautam\".istitle())"
   ]
  },
  {
   "cell_type": "code",
   "execution_count": 72,
   "id": "unique-present",
   "metadata": {},
   "outputs": [
    {
     "ename": "TypeError",
     "evalue": "unhashable type: 'list'",
     "output_type": "error",
     "traceback": [
      "\u001b[1;31m---------------------------------------------------------------------------\u001b[0m",
      "\u001b[1;31mTypeError\u001b[0m                                 Traceback (most recent call last)",
      "\u001b[1;32m<ipython-input-72-18ec1c478b69>\u001b[0m in \u001b[0;36m<module>\u001b[1;34m\u001b[0m\n\u001b[0;32m      1\u001b[0m \u001b[0mdevelopers\u001b[0m \u001b[1;33m=\u001b[0m \u001b[0mset\u001b[0m\u001b[1;33m(\u001b[0m\u001b[1;33m[\u001b[0m\u001b[1;34m'Me'\u001b[0m\u001b[1;33m,\u001b[0m \u001b[1;34m'You'\u001b[0m\u001b[1;33m,\u001b[0m \u001b[1;34m'JD'\u001b[0m\u001b[1;33m,\u001b[0m \u001b[1;34m'VB'\u001b[0m\u001b[1;33m]\u001b[0m\u001b[1;33m)\u001b[0m\u001b[1;33m\u001b[0m\u001b[1;33m\u001b[0m\u001b[0m\n\u001b[1;32m----> 2\u001b[1;33m \u001b[0mdevelopers\u001b[0m\u001b[1;33m.\u001b[0m\u001b[0mremove\u001b[0m\u001b[1;33m(\u001b[0m \u001b[1;33m[\u001b[0m\u001b[1;34m'Me'\u001b[0m\u001b[1;33m]\u001b[0m \u001b[1;33m)\u001b[0m\u001b[1;33m\u001b[0m\u001b[1;33m\u001b[0m\u001b[0m\n\u001b[0m\u001b[0;32m      3\u001b[0m \u001b[0mdevelopers\u001b[0m\u001b[1;33m.\u001b[0m\u001b[0mremove\u001b[0m\u001b[1;33m(\u001b[0m \u001b[1;33m(\u001b[0m\u001b[1;34m'YOU'\u001b[0m\u001b[1;33m)\u001b[0m \u001b[1;33m)\u001b[0m\u001b[1;33m\u001b[0m\u001b[1;33m\u001b[0m\u001b[0m\n\u001b[0;32m      4\u001b[0m \u001b[0mprint\u001b[0m \u001b[1;33m(\u001b[0m\u001b[0mdevelopers\u001b[0m\u001b[1;33m)\u001b[0m\u001b[1;33m\u001b[0m\u001b[1;33m\u001b[0m\u001b[0m\n",
      "\u001b[1;31mTypeError\u001b[0m: unhashable type: 'list'"
     ]
    }
   ],
   "source": [
    "developers = set(['Me', 'You', 'JD', 'VB'])\n",
    "developers.remove(['Me'])\n",
    "developers.remove(('YOU'))\n",
    "print (developers)"
   ]
  },
  {
   "cell_type": "code",
   "execution_count": 80,
   "id": "antique-whole",
   "metadata": {},
   "outputs": [
    {
     "name": "stdout",
     "output_type": "stream",
     "text": [
      "12\n",
      "Adani\r",
      "Gautam\n"
     ]
    }
   ],
   "source": [
    "str = 'Adani\\rGautam'\n",
    "print(len(str))\n",
    "print(str)"
   ]
  },
  {
   "cell_type": "code",
   "execution_count": null,
   "id": "young-tackle",
   "metadata": {},
   "outputs": [],
   "source": []
  }
 ],
 "metadata": {
  "kernelspec": {
   "display_name": "Python 3",
   "language": "python",
   "name": "python3"
  },
  "language_info": {
   "codemirror_mode": {
    "name": "ipython",
    "version": 3
   },
   "file_extension": ".py",
   "mimetype": "text/x-python",
   "name": "python",
   "nbconvert_exporter": "python",
   "pygments_lexer": "ipython3",
   "version": "3.8.8"
  }
 },
 "nbformat": 4,
 "nbformat_minor": 5
}
