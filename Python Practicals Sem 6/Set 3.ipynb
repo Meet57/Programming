{
 "cells": [
  {
   "cell_type": "markdown",
   "id": "small-hacker",
   "metadata": {},
   "source": [
    "#### 1 WAP to find sum of first N numbers."
   ]
  },
  {
   "cell_type": "code",
   "execution_count": 3,
   "id": "intelligent-mediterranean",
   "metadata": {},
   "outputs": [
    {
     "name": "stdout",
     "output_type": "stream",
     "text": [
      "Enter Number : 10\n",
      "sum : 55\n"
     ]
    }
   ],
   "source": [
    "n = int(input(\"Enter Number : \"))\n",
    "\n",
    "sum = 0\n",
    "while n!=0:\n",
    "    sum += n\n",
    "    n = n - 1\n",
    "\n",
    "print('sum :',sum)"
   ]
  },
  {
   "cell_type": "markdown",
   "id": "romance-thickness",
   "metadata": {},
   "source": [
    "#### 2 WAP to find sum of N scanned numbers."
   ]
  },
  {
   "cell_type": "code",
   "execution_count": 5,
   "id": "smaller-burner",
   "metadata": {},
   "outputs": [
    {
     "name": "stdout",
     "output_type": "stream",
     "text": [
      "enter values you want to insert : 5\n",
      "Enter Number : 2\n",
      "Enter Number : 4\n",
      "Enter Number : 6\n",
      "Enter Number : 8\n",
      "Enter Number : 0\n",
      "sum : 20\n"
     ]
    }
   ],
   "source": [
    "n = int(input(\"enter values you want to insert : \"))\n",
    "\n",
    "sum = 0\n",
    "for i in range(n):\n",
    "    sum = sum + int(input(\"Enter Number : \"))\n",
    "\n",
    "print('sum :',sum)\n",
    "\n"
   ]
  },
  {
   "cell_type": "markdown",
   "id": "german-montreal",
   "metadata": {},
   "source": [
    "#### 3 Write a Python program to find N!."
   ]
  },
  {
   "cell_type": "code",
   "execution_count": 7,
   "id": "revised-maker",
   "metadata": {},
   "outputs": [
    {
     "name": "stdout",
     "output_type": "stream",
     "text": [
      "Enter Number : 10\n",
      "Factorial : 3628800\n"
     ]
    }
   ],
   "source": [
    "n = int(input(\"Enter Number : \"))\n",
    "\n",
    "p = 1\n",
    "while n!=0:\n",
    "    p *= n\n",
    "    n = n - 1\n",
    "\n",
    "print('Factorial :',p)"
   ]
  },
  {
   "cell_type": "markdown",
   "id": "vital-accused",
   "metadata": {},
   "source": [
    "#### 4 Write a Python program to print Fibonacci series upto n terms."
   ]
  },
  {
   "cell_type": "code",
   "execution_count": 8,
   "id": "ideal-tsunami",
   "metadata": {},
   "outputs": [
    {
     "name": "stdout",
     "output_type": "stream",
     "text": [
      "Enter Number : 8\n",
      "0\n",
      "1\n",
      "1\n",
      "2\n",
      "3\n",
      "5\n",
      "8\n",
      "13\n"
     ]
    }
   ],
   "source": [
    "n = int(input(\"Enter Number : \"))\n",
    "\n",
    "i = 0\n",
    "j = 1\n",
    "for l in range(n):\n",
    "    k = i + j\n",
    "    print(i)\n",
    "\n",
    "    i,j = j,k "
   ]
  },
  {
   "cell_type": "markdown",
   "id": "divine-stick",
   "metadata": {},
   "source": [
    "#### 5 WAP to find the reverse of given numbers (Example 2564-4652)."
   ]
  },
  {
   "cell_type": "code",
   "execution_count": 9,
   "id": "governing-germany",
   "metadata": {},
   "outputs": [
    {
     "name": "stdout",
     "output_type": "stream",
     "text": [
      "Enter Number : 2564\n",
      "Reverse : 4652\n"
     ]
    }
   ],
   "source": [
    "n = int(input(\"Enter Number : \"))\n",
    "\n",
    "rev = 0\n",
    "  \n",
    "while(n > 0): \n",
    "    a = int(n % 10)\n",
    "    rev = int(rev * 10 + a) \n",
    "    n = int(n / 10)\n",
    "\n",
    "print('Reverse :',rev)"
   ]
  },
  {
   "cell_type": "markdown",
   "id": "fifteen-abraham",
   "metadata": {},
   "source": [
    "#### 6 WAP to check whether entered number is prime or not."
   ]
  },
  {
   "cell_type": "code",
   "execution_count": 10,
   "id": "supreme-reliance",
   "metadata": {},
   "outputs": [
    {
     "name": "stdout",
     "output_type": "stream",
     "text": [
      "Enter Number to check prime : 57\n",
      "Not prime\n"
     ]
    }
   ],
   "source": [
    "n = int(input(\"Enter Number to check prime : \"))\n",
    "\n",
    "prime = 0\n",
    "for i in range(2,int(n/2)):\n",
    "    if n%i == 0:\n",
    "        prime += 1\n",
    "\n",
    "if prime == 1 :\n",
    "    print(\"Prime\") \n",
    "else:\n",
    "    print(\"Not prime\")"
   ]
  },
  {
   "cell_type": "markdown",
   "id": "legislative-picnic",
   "metadata": {},
   "source": [
    "#### 7 WAP to print all even numbers between 1 to n except the numbers divisible by 6."
   ]
  },
  {
   "cell_type": "code",
   "execution_count": 12,
   "id": "handmade-jerusalem",
   "metadata": {},
   "outputs": [
    {
     "name": "stdout",
     "output_type": "stream",
     "text": [
      "Enter number : 15\n",
      "1 2 3 4 5 7 8 9 10 11 13 14 15 "
     ]
    }
   ],
   "source": [
    "n = int(input(\"Enter number : \"))\n",
    "\n",
    "for i in range(1,n+1):\n",
    "    if i%6 == 0:\n",
    "        continue\n",
    "    else:\n",
    "        print(i,end=' ')"
   ]
  },
  {
   "cell_type": "markdown",
   "id": "frank-address",
   "metadata": {},
   "source": [
    "#### 8 Write a python program to check whether given number is Armstrong or not."
   ]
  },
  {
   "cell_type": "code",
   "execution_count": 13,
   "id": "fallen-column",
   "metadata": {},
   "outputs": [
    {
     "name": "stdout",
     "output_type": "stream",
     "text": [
      "Enter Number : 567\n",
      "567 is not an Armstrong number\n"
     ]
    }
   ],
   "source": [
    "n = int(input(\"Enter Number : \"))\n",
    "\n",
    "order = len(str(n))\n",
    "sum = 0\n",
    "\n",
    "temp = n\n",
    "while temp>0:\n",
    "    digit = int(temp % 10)\n",
    "    sum += digit ** order\n",
    "    temp = int(temp/10)\n",
    "\n",
    "if n == sum:\n",
    "   print(n,\"is an Armstrong number\")\n",
    "else:\n",
    "   print(n,\"is not an Armstrong number\") "
   ]
  },
  {
   "cell_type": "markdown",
   "id": "unnecessary-script",
   "metadata": {},
   "source": [
    "#### 9 Write a python program to check whether given number is Palindrome or not."
   ]
  },
  {
   "cell_type": "code",
   "execution_count": 15,
   "id": "composed-dairy",
   "metadata": {},
   "outputs": [
    {
     "name": "stdout",
     "output_type": "stream",
     "text": [
      "Enter Number : 1234321\n",
      "Yes, it is palindrome\n"
     ]
    }
   ],
   "source": [
    "x = input(\"Enter Number : \")\n",
    "w = \"\" \n",
    "for i in x: \n",
    "    w = i + w \n",
    "\n",
    "if (x==w): \n",
    "    print(\"Yes, it is palindrome\")     \n",
    "else:\n",
    "    print(\"No, it is not palindrome\")"
   ]
  },
  {
   "cell_type": "markdown",
   "id": "mobile-geometry",
   "metadata": {},
   "source": [
    "#### 10 Pattern 1"
   ]
  },
  {
   "cell_type": "code",
   "execution_count": 16,
   "id": "perfect-picnic",
   "metadata": {},
   "outputs": [
    {
     "name": "stdout",
     "output_type": "stream",
     "text": [
      "\n",
      "\n",
      "1 \n",
      "\n",
      "1 2 \n",
      "\n",
      "1 2 3 \n",
      "\n",
      "1 2 3 4 \n",
      "\n",
      "1 2 3 4 5 \n",
      "\n"
     ]
    }
   ],
   "source": [
    "for i in range(1,7):\n",
    "    for j in range(1,i):\n",
    "        print(j,end = \" \")\n",
    "    print(\"\\n\")"
   ]
  },
  {
   "cell_type": "markdown",
   "id": "blessed-festival",
   "metadata": {},
   "source": [
    "#### 10 Pattern 2"
   ]
  },
  {
   "cell_type": "code",
   "execution_count": 17,
   "id": "dressed-saturday",
   "metadata": {},
   "outputs": [
    {
     "name": "stdout",
     "output_type": "stream",
     "text": [
      "* * * * * \n",
      "\n",
      "* * * * \n",
      "\n",
      "* * * \n",
      "\n",
      "* * \n",
      "\n",
      "* \n",
      "\n"
     ]
    }
   ],
   "source": [
    "for i in range(5,0,-1):\n",
    "    for j in range(i):\n",
    "        print(\"*\",end = ' ')\n",
    "    print(\"\\n\")"
   ]
  }
 ],
 "metadata": {
  "kernelspec": {
   "display_name": "Python 3",
   "language": "python",
   "name": "python3"
  },
  "language_info": {
   "codemirror_mode": {
    "name": "ipython",
    "version": 3
   },
   "file_extension": ".py",
   "mimetype": "text/x-python",
   "name": "python",
   "nbconvert_exporter": "python",
   "pygments_lexer": "ipython3",
   "version": "3.8.8"
  }
 },
 "nbformat": 4,
 "nbformat_minor": 5
}
