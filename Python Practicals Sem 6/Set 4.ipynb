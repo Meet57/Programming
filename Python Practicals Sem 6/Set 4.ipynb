{
 "cells": [
  {
   "cell_type": "markdown",
   "id": "challenging-november",
   "metadata": {},
   "source": [
    "#### 1 Write a python program which covers all the methods (functions) of list."
   ]
  },
  {
   "cell_type": "code",
   "execution_count": 1,
   "id": "cubic-curve",
   "metadata": {},
   "outputs": [
    {
     "name": "stdout",
     "output_type": "stream",
     "text": [
      "6\n",
      "[1, 1, 2, 3, 4, 5, 6, 7, 8, 9]\n",
      "[1, 1, 2, 3, 4, 5, 6, 7, 8, 9]\n"
     ]
    }
   ],
   "source": [
    "lis = [1,2,3,4,5,6]\n",
    "\n",
    "lis.append(7)\n",
    "lis.insert(0,1)\n",
    "lis.remove(7)\n",
    "print(lis.pop())\n",
    "\n",
    "lis2 = [6,7,8,9]\n",
    "lis.extend(lis2)\n",
    "\n",
    "print(lis)\n",
    "\n",
    "lis.sort()\n",
    "lis2 = lis.copy()\n",
    "lis.clear()\n",
    "\n",
    "print(lis2)"
   ]
  },
  {
   "cell_type": "markdown",
   "id": "likely-handbook",
   "metadata": {},
   "source": [
    "#### 2 Write a Python program to append a list to the second list."
   ]
  },
  {
   "cell_type": "code",
   "execution_count": 2,
   "id": "authorized-health",
   "metadata": {},
   "outputs": [
    {
     "name": "stdout",
     "output_type": "stream",
     "text": [
      "[1, 2, 3, 4, 5, 6, 7, 8, 9, 10]\n"
     ]
    }
   ],
   "source": [
    "l1 = [1,2,3,4,5,6]\n",
    "l2 = [7,8,9,10]\n",
    "\n",
    "l1.extend(l2)\n",
    "\n",
    "print(l1)"
   ]
  },
  {
   "cell_type": "markdown",
   "id": "joined-master",
   "metadata": {},
   "source": [
    "#### 3 Write a python program to check whether the given list is palindrome or not."
   ]
  },
  {
   "cell_type": "code",
   "execution_count": 3,
   "id": "distributed-ideal",
   "metadata": {},
   "outputs": [
    {
     "name": "stdout",
     "output_type": "stream",
     "text": [
      "Palindrome list\n"
     ]
    }
   ],
   "source": [
    "li = [1,2,3,4,5,4,3,2,1]\n",
    "\n",
    "n = int(len(li) /2)\n",
    "for i in range(n):\n",
    "    if li[i] != li[-(i+1)]:\n",
    "        print('Not Palindrome list')\n",
    "        break\n",
    "else:\n",
    "    print('Palindrome list')"
   ]
  },
  {
   "cell_type": "markdown",
   "id": "loving-fitting",
   "metadata": {},
   "source": [
    "#### 4 Write a python program to store strings in list and then print them."
   ]
  },
  {
   "cell_type": "code",
   "execution_count": 4,
   "id": "disabled-spirit",
   "metadata": {},
   "outputs": [
    {
     "name": "stdout",
     "output_type": "stream",
     "text": [
      "How many string you wanna enter : 3\n",
      "1 : hi\n",
      "2 : hey\n",
      "3 : hello\n",
      "-----OUTPUT----\n",
      "hi\n",
      "hey\n",
      "hello\n"
     ]
    }
   ],
   "source": [
    "n = int(input(\"How many string you wanna enter : \"))\n",
    "\n",
    "l = []\n",
    "for i in range(n):\n",
    "    s = str(i+1) + \" : \"\n",
    "    string = input(s)\n",
    "\n",
    "    l.append(string)\n",
    "\n",
    "print(\"-----OUTPUT----\")\n",
    "for i in l:\n",
    "    print(i)"
   ]
  },
  {
   "cell_type": "markdown",
   "id": "choice-shuttle",
   "metadata": {},
   "source": [
    "#### 5 Write a python program to print list of prime numbers upto N using loop and else clause. "
   ]
  },
  {
   "cell_type": "code",
   "execution_count": 5,
   "id": "norwegian-winter",
   "metadata": {},
   "outputs": [
    {
     "name": "stdout",
     "output_type": "stream",
     "text": [
      "Range : 20\n",
      "[3, 5, 7, 11, 13, 17, 19]\n"
     ]
    }
   ],
   "source": [
    "n = int(input(\"Range : \"))\n",
    "\n",
    "l = []\n",
    "for i in range(3,n):\n",
    "    for j in range(2,int(i/2)+1):\n",
    "        if i%j == 0:\n",
    "            break\n",
    "    else:\n",
    "        l.append(i)\n",
    "else:\n",
    "    print(l)\n"
   ]
  },
  {
   "cell_type": "markdown",
   "id": "theoretical-cheat",
   "metadata": {},
   "source": [
    "#### 6 Write a Python program to multiply all the items in a list."
   ]
  },
  {
   "cell_type": "code",
   "execution_count": 6,
   "id": "excellent-huntington",
   "metadata": {},
   "outputs": [
    {
     "name": "stdout",
     "output_type": "stream",
     "text": [
      "3628800\n"
     ]
    }
   ],
   "source": [
    "l = [1,2,3,4,5,6,7,8,9,10]\n",
    "\n",
    "q = 1\n",
    "for i in l:\n",
    "    q *= i\n",
    "\n",
    "print(q)"
   ]
  },
  {
   "cell_type": "markdown",
   "id": "known-portal",
   "metadata": {},
   "source": [
    "#### 7 Write a Python program to get the largest number from a list."
   ]
  },
  {
   "cell_type": "code",
   "execution_count": 7,
   "id": "macro-avatar",
   "metadata": {},
   "outputs": [
    {
     "name": "stdout",
     "output_type": "stream",
     "text": [
      "Max number in list is : 9\n"
     ]
    }
   ],
   "source": [
    "l = [1,2,3,4,5,6,7,8,9]\n",
    "\n",
    "print('Max number in list is :',max(l))"
   ]
  },
  {
   "cell_type": "markdown",
   "id": "disturbed-proportion",
   "metadata": {},
   "source": [
    "#### 8 Write a Python program to find the second smallest number in a list."
   ]
  },
  {
   "cell_type": "code",
   "execution_count": 8,
   "id": "christian-adjustment",
   "metadata": {},
   "outputs": [
    {
     "name": "stdout",
     "output_type": "stream",
     "text": [
      "13  is second smallest in :  [12, 23, 45, 98, 12, 567, 13]\n"
     ]
    }
   ],
   "source": [
    "l = [12,23,45,98,12,567,13]\n",
    "\n",
    "sh = sorted(l)[2]\n",
    "\n",
    "print(sh,\" is second smallest in : \",l)"
   ]
  },
  {
   "cell_type": "markdown",
   "id": "united-russia",
   "metadata": {},
   "source": [
    "#### 9 Write a Python program to count the number of strings where the string length is 2 or more and the first and last character are same from a given list of strings."
   ]
  },
  {
   "cell_type": "code",
   "execution_count": 9,
   "id": "royal-order",
   "metadata": {},
   "outputs": [
    {
     "name": "stdout",
     "output_type": "stream",
     "text": [
      "3\n"
     ]
    }
   ],
   "source": [
    "word = [\"abc\",\"aba\",\"1221\",\"xyz\",\"asdsa\",\"asdf\"]\n",
    "\n",
    "ctr = 0\n",
    "\n",
    "for i in word:\n",
    "    if len(i) >= 2 and (i[0] == i[-1]):\n",
    "        ctr += 1\n",
    "\n",
    "print(ctr)"
   ]
  },
  {
   "cell_type": "code",
   "execution_count": null,
   "id": "final-genius",
   "metadata": {},
   "outputs": [],
   "source": []
  }
 ],
 "metadata": {
  "kernelspec": {
   "display_name": "Python 3",
   "language": "python",
   "name": "python3"
  },
  "language_info": {
   "codemirror_mode": {
    "name": "ipython",
    "version": 3
   },
   "file_extension": ".py",
   "mimetype": "text/x-python",
   "name": "python",
   "nbconvert_exporter": "python",
   "pygments_lexer": "ipython3",
   "version": "3.8.8"
  }
 },
 "nbformat": 4,
 "nbformat_minor": 5
}
