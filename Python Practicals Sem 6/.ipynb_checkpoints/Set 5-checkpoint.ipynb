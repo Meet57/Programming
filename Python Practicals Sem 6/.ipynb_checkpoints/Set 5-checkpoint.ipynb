{
 "cells": [
  {
   "cell_type": "markdown",
   "id": "protective-queensland",
   "metadata": {},
   "source": [
    "#### 1 Write a Python program to remove duplicates from a list."
   ]
  },
  {
   "cell_type": "code",
   "execution_count": 1,
   "id": "green-recipe",
   "metadata": {},
   "outputs": [
    {
     "name": "stdout",
     "output_type": "stream",
     "text": [
      "[1, 2, 3, 4, 5, 6, 7, 8, 9]\n"
     ]
    }
   ],
   "source": [
    "l = [1,2,3,4,5,6,7,8,9,1,3,6,8]\n",
    "\n",
    "temp = []\n",
    "for i in l:\n",
    "    if i not in temp:\n",
    "        temp.append(i)\n",
    "\n",
    "print(temp)"
   ]
  },
  {
   "cell_type": "markdown",
   "id": "organizational-discovery",
   "metadata": {},
   "source": [
    "#### 2 Write a Python program to find the list of words that are longer than n from a given string."
   ]
  },
  {
   "cell_type": "code",
   "execution_count": 3,
   "id": "apparent-prerequisite",
   "metadata": {},
   "outputs": [
    {
     "name": "stdout",
     "output_type": "stream",
     "text": [
      "Enter the string :The quick brown fox jumps over the lazy dog\n",
      "Enter the number :3\n",
      "['quick', 'brown', 'jumps', 'over', 'lazy']\n"
     ]
    }
   ],
   "source": [
    "str = input('Enter the string :')\n",
    "n = int(input('Enter the number :'))\n",
    "\n",
    "word_len = []  \n",
    "txt = str.split(\" \")  \n",
    "for x in txt:  \n",
    "    if len(x) > n:  \n",
    "        word_len.append(x)  \n",
    "        \n",
    "print(word_len)"
   ]
  },
  {
   "cell_type": "markdown",
   "id": "ancient-olympus",
   "metadata": {},
   "source": [
    "#### 3 Write a Python function that takes two lists and returns True if they have at least one common member."
   ]
  },
  {
   "cell_type": "code",
   "execution_count": 4,
   "id": "clinical-shield",
   "metadata": {},
   "outputs": [
    {
     "name": "stdout",
     "output_type": "stream",
     "text": [
      "True\n",
      "False\n"
     ]
    }
   ],
   "source": [
    "def common(a,b):\n",
    "    for i in a:\n",
    "        if i in b:\n",
    "            return True\n",
    "    else:\n",
    "        return False\n",
    "\n",
    "l1 = [1,2,3,4,5]\n",
    "l2 = [5,6,7,8,9]\n",
    "l3 = [1,2,3,4]\n",
    "\n",
    "print(common(l1,l2))\n",
    "print(common(l2,l3))"
   ]
  },
  {
   "cell_type": "markdown",
   "id": "healthy-excerpt",
   "metadata": {},
   "source": [
    "#### 4 write a Python program to print the numbers of a specified list after removing even numbers from it."
   ]
  },
  {
   "cell_type": "code",
   "execution_count": 5,
   "id": "extreme-single",
   "metadata": {},
   "outputs": [
    {
     "name": "stdout",
     "output_type": "stream",
     "text": [
      "[21, 23, 43, 45, 65, 67, 87, 89]\n"
     ]
    }
   ],
   "source": [
    "l = [21,23,32,34,43,45,54,56,65,67,76,78,87,89,98]\n",
    "l = [x for x in l if x%2!=0]\n",
    "print(l)"
   ]
  },
  {
   "cell_type": "markdown",
   "id": "static-petite",
   "metadata": {},
   "source": [
    "#### 5 Write a Python program to add two matrices."
   ]
  },
  {
   "cell_type": "code",
   "execution_count": 6,
   "id": "motivated-birthday",
   "metadata": {},
   "outputs": [
    {
     "name": "stdout",
     "output_type": "stream",
     "text": [
      "[17, 15, 4]\n",
      "[10, 12, 9]\n",
      "[11, 13, 18]\n"
     ]
    }
   ],
   "source": [
    "X = [[12,7,3],\n",
    "    [4 ,5,6],\n",
    "    [7 ,8,9]]\n",
    "\n",
    "Y = [[5,8,1],\n",
    "    [6,7,3],\n",
    "    [4,5,9]]\n",
    "\n",
    "result = [[0,0,0],\n",
    "         [0,0,0],\n",
    "         [0,0,0]]\n",
    "\n",
    "for i in range(len(X)):\n",
    "   for j in range(len(X[0])):\n",
    "       result[i][j] = X[i][j] + Y[i][j]\n",
    "\n",
    "for r in result:\n",
    "   print(r)\n"
   ]
  },
  {
   "cell_type": "markdown",
   "id": "decreased-thirty",
   "metadata": {},
   "source": [
    "#### 6 Write a Python program to transpose a given matrix."
   ]
  },
  {
   "cell_type": "code",
   "execution_count": 7,
   "id": "hydraulic-polls",
   "metadata": {},
   "outputs": [
    {
     "name": "stdout",
     "output_type": "stream",
     "text": [
      "Normal Matrix\n",
      "[12, 7, 3]\n",
      "[4, 5, 6]\n",
      "[7, 8, 9]\n",
      "\n",
      "\n",
      "Transposed Matrix\n",
      "[12, 4, 7]\n",
      "[7, 5, 8]\n",
      "[3, 6, 9]\n"
     ]
    }
   ],
   "source": [
    "x = [[12,7,3],\n",
    "     [4,5,6],\n",
    "     [7,8,9]]\n",
    "\n",
    "y = []\n",
    "\n",
    "for i in range(len(x[0])):\n",
    "    temp = []\n",
    "    for j in range(len(x)):\n",
    "        temp.append(x[j][i])\n",
    "    y.append(temp)\n",
    "\n",
    "print(\"Normal Matrix\")\n",
    "for i in x:\n",
    "    print(i)\n",
    "print(\"\\n\\nTransposed Matrix\")\n",
    "for i in y:\n",
    "    print(i)"
   ]
  },
  {
   "cell_type": "markdown",
   "id": "alternative-password",
   "metadata": {},
   "source": [
    "#### 7 Flatten a nested list structure. Example: if list1 = [1, [2, 3], [4, 5, [6, 7] ] ] then try to convert it in 1-dimensional [1, 2, 3, 4, 5, 6, 7]"
   ]
  },
  {
   "cell_type": "code",
   "execution_count": 8,
   "id": "administrative-shoot",
   "metadata": {},
   "outputs": [
    {
     "name": "stdout",
     "output_type": "stream",
     "text": [
      "[1, 2, 3, 4, 5, 6, 7]\n"
     ]
    }
   ],
   "source": [
    "def Flatten(l):\n",
    "    for i in l:\n",
    "        if type(i) == list:\n",
    "            Flatten(i)\n",
    "        else:\n",
    "            n.append(i)\n",
    "\n",
    "l = [1, [2, 3], [4, 5, [6, 7] ] ]\n",
    "n = []\n",
    "\n",
    "Flatten(l)\n",
    "print(n)"
   ]
  },
  {
   "cell_type": "markdown",
   "id": "cardiovascular-resource",
   "metadata": {},
   "source": [
    "#### 8 Write a Python program to split a list every Nth element."
   ]
  },
  {
   "cell_type": "code",
   "execution_count": 12,
   "id": "tamil-kinase",
   "metadata": {},
   "outputs": [
    {
     "name": "stdout",
     "output_type": "stream",
     "text": [
      "3 : [[1, 4, 7, 10, 13, 16, 19], [2, 5, 8, 11, 14, 17, 20], [3, 6, 9, 12, 5, 18]]\n",
      "5 : [[1, 6, 11, 16], [2, 7, 12, 17], [3, 8, 13, 18], [4, 9, 14, 19], [5, 10, 5, 20]]\n"
     ]
    }
   ],
   "source": [
    "l = [1,2,3,4,5,6,7,8,9,10,11,12,13,14,5,16,17,18,19,20]\n",
    "\n",
    "\"\"\"\n",
    "list1 = source[::4]\n",
    "list2 = source[1::4]\n",
    "list3 = source[2::4]\n",
    "list4 = source[3::4]\n",
    "\"\"\"\n",
    "\n",
    "def Split(c,step):\n",
    "    return [c[i::step] for i in range(step)]\n",
    "\n",
    "print('3 :',Split(l,3))\n",
    "print('5 :',Split(l,5))"
   ]
  },
  {
   "cell_type": "code",
   "execution_count": null,
   "id": "miniature-uncle",
   "metadata": {},
   "outputs": [],
   "source": []
  }
 ],
 "metadata": {
  "kernelspec": {
   "display_name": "Python 3",
   "language": "python",
   "name": "python3"
  },
  "language_info": {
   "codemirror_mode": {
    "name": "ipython",
    "version": 3
   },
   "file_extension": ".py",
   "mimetype": "text/x-python",
   "name": "python",
   "nbconvert_exporter": "python",
   "pygments_lexer": "ipython3",
   "version": "3.8.8"
  }
 },
 "nbformat": 4,
 "nbformat_minor": 5
}
