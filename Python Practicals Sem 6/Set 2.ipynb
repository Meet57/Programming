{
 "cells": [
  {
   "cell_type": "markdown",
   "metadata": {},
   "source": [
    "#### 1 WAP to check whether entered number is even or odd."
   ]
  },
  {
   "cell_type": "code",
   "execution_count": 1,
   "metadata": {},
   "outputs": [
    {
     "name": "stdout",
     "output_type": "stream",
     "text": [
      "Enter number : 15\n",
      "Odd\n"
     ]
    }
   ],
   "source": [
    "n = int(input(\"Enter number : \"))\n",
    "\n",
    "\n",
    "if n==0:\n",
    "    print(\"Zero\")\n",
    "elif n%2 == 0:\n",
    "    print(\"Even\")\n",
    "else:\n",
    "    print(\"Odd\")"
   ]
  },
  {
   "cell_type": "markdown",
   "metadata": {},
   "source": [
    "#### 2 WAP to find whether entered number is positive, negative or zero."
   ]
  },
  {
   "cell_type": "code",
   "execution_count": 2,
   "metadata": {},
   "outputs": [
    {
     "name": "stdout",
     "output_type": "stream",
     "text": [
      "Enter Number : -8\n",
      "Negative\n"
     ]
    }
   ],
   "source": [
    "n = int(input(\"Enter Number : \"))\n",
    "\n",
    "if n==0:\n",
    "    print(\"Zero\")\n",
    "elif n>0:\n",
    "    print(\"Positive\")\n",
    "else:\n",
    "    print(\"Negative\")"
   ]
  },
  {
   "cell_type": "markdown",
   "metadata": {},
   "source": [
    "#### 3 WAP to find roots of quadratic equations if roots are real."
   ]
  },
  {
   "cell_type": "code",
   "execution_count": 5,
   "metadata": {},
   "outputs": [
    {
     "name": "stdout",
     "output_type": "stream",
     "text": [
      "Ax^2 + Bx + C\n",
      "A : 1\n",
      "B : 5\n",
      "C : 6\n",
      "Real root exists, Roots are -3.0 and -2.0\n"
     ]
    }
   ],
   "source": [
    "print(\"Ax^2 + Bx + C\")\n",
    "a = int(input(\"A : \"))\n",
    "b = int(input(\"B : \"))\n",
    "c = int(input(\"C : \"))\n",
    "\n",
    "if(b*b - 4*a*c>=0):\n",
    "    d = b*b - 4*a*c\n",
    "    print(\"Real root exists, Roots are\",(-b-(d**0.5))/(2*a),'and',(-b+(d**0.5))/(2*a))\n",
    "else:\n",
    "    print(\"No real root exists\")"
   ]
  },
  {
   "cell_type": "markdown",
   "metadata": {},
   "source": [
    "#### 4 WAP to check whether entered character is vowel or consonant."
   ]
  },
  {
   "cell_type": "code",
   "execution_count": 7,
   "metadata": {},
   "outputs": [
    {
     "name": "stdout",
     "output_type": "stream",
     "text": [
      "Enter character : u\n",
      "u is Vowel\n"
     ]
    }
   ],
   "source": [
    "c = str(input(\"Enter character : \"))[:1]\n",
    "\n",
    "v = ['a','e','i','o','u','A','E','I','O','U']\n",
    "if c in v:\n",
    "    print(c,'is Vowel')\n",
    "else:\n",
    "    print(c,'is consonant')"
   ]
  },
  {
   "cell_type": "markdown",
   "metadata": {},
   "source": [
    "#### 5 WAP to find maximum of three numbers (nested if-else)."
   ]
  },
  {
   "cell_type": "code",
   "execution_count": 10,
   "metadata": {},
   "outputs": [
    {
     "name": "stdout",
     "output_type": "stream",
     "text": [
      "A : 10\n",
      "B : 20\n",
      "C : 30\n",
      "Max :  30\n"
     ]
    }
   ],
   "source": [
    "a = int(input(\"A : \"))\n",
    "b = int(input(\"B : \"))\n",
    "c = int(input(\"C : \"))\n",
    "\n",
    "if a > b:\n",
    "    if a > c:\n",
    "        print(\"Max : \",a)\n",
    "    else:\n",
    "        print(\"Max : \",c)\n",
    "else:\n",
    "\n",
    "    if b > c:\n",
    "        print(\"Max : \",b)\n",
    "    else:\n",
    "        print(\"Max : \",c)"
   ]
  },
  {
   "cell_type": "markdown",
   "metadata": {},
   "source": [
    "#### 6 WAP to calculate the salary of an employee based on following conditions (nested if-else):\n",
    "1. if degree = B.E. and experience < 5 years, salary=30000\n",
    "2. if degree = B.E. and experience >= 5 years, salary=40000\n",
    "3. if degree = M.E. and experience < 5 years, salary=50000\n",
    "4. if degree = M.E. and experience >= 5 years, salary= 60000"
   ]
  },
  {
   "cell_type": "code",
   "execution_count": 13,
   "metadata": {},
   "outputs": [
    {
     "name": "stdout",
     "output_type": "stream",
     "text": [
      "Enter your degree : B.E.\n",
      "Enter year of experience : 8\n",
      "Salary is 40000\n"
     ]
    }
   ],
   "source": [
    "degree = input('Enter your degree : ')\n",
    "experience = int(input('Enter year of experience : '))\n",
    "\n",
    "if degree == \"B.E.\":\n",
    "    if experience >= 5:\n",
    "        print('Salary is 40000')\n",
    "    else:\n",
    "        print('Salary is 30000')\n",
    "elif degree == \"M.E.\":\n",
    "    if experience >= 5:\n",
    "        print('Salary is 60000')\n",
    "    else:\n",
    "        print('Salary is 50000')"
   ]
  },
  {
   "cell_type": "markdown",
   "metadata": {},
   "source": [
    "#### 7 WAP to check whether entered input is character, digit or special symbol using ladder if-else."
   ]
  },
  {
   "cell_type": "code",
   "execution_count": 14,
   "metadata": {},
   "outputs": [
    {
     "name": "stdout",
     "output_type": "stream",
     "text": [
      "Enter Anything : :\n",
      "Symbol\n"
     ]
    }
   ],
   "source": [
    "c = input(\"Enter Anything : \")[:1]\n",
    "\n",
    "if(c>=\"a\" and c<=\"z\") or (c>=\"A\" and c<=\"Z\"):\n",
    "    print(\"Character\")\n",
    "elif(c>='0' and c<='9'):\n",
    "    print(\"Digit\")\n",
    "else:\n",
    "    print(\"Symbol\")"
   ]
  },
  {
   "cell_type": "code",
   "execution_count": null,
   "metadata": {},
   "outputs": [],
   "source": []
  }
 ],
 "metadata": {
  "kernelspec": {
   "display_name": "Python 3",
   "language": "python",
   "name": "python3"
  },
  "language_info": {
   "codemirror_mode": {
    "name": "ipython",
    "version": 3
   },
   "file_extension": ".py",
   "mimetype": "text/x-python",
   "name": "python",
   "nbconvert_exporter": "python",
   "pygments_lexer": "ipython3",
   "version": "3.8.7"
  }
 },
 "nbformat": 4,
 "nbformat_minor": 4
}
