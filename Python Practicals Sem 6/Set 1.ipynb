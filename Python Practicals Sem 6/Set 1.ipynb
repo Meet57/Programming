{
 "cells": [
  {
   "cell_type": "markdown",
   "metadata": {},
   "source": [
    "#### 1 Write a Python program to print “Hello World”."
   ]
  },
  {
   "cell_type": "code",
   "execution_count": 1,
   "metadata": {},
   "outputs": [
    {
     "name": "stdout",
     "output_type": "stream",
     "text": [
      "Hello World\n"
     ]
    }
   ],
   "source": [
    "print('Hello World')"
   ]
  },
  {
   "cell_type": "markdown",
   "metadata": {},
   "source": [
    "#### 2 Write a Python program to swap two variables using third variable."
   ]
  },
  {
   "cell_type": "code",
   "execution_count": 2,
   "metadata": {},
   "outputs": [
    {
     "name": "stdout",
     "output_type": "stream",
     "text": [
      "10 5\n"
     ]
    }
   ],
   "source": [
    "a = 5\n",
    "b = 10\n",
    "\n",
    "c = a\n",
    "a = b\n",
    "b = c\n",
    "\n",
    "print(a,b)\n"
   ]
  },
  {
   "cell_type": "markdown",
   "metadata": {},
   "source": [
    "#### 3 Write a Python program to swap two variables without third variable."
   ]
  },
  {
   "cell_type": "code",
   "execution_count": 3,
   "metadata": {},
   "outputs": [
    {
     "name": "stdout",
     "output_type": "stream",
     "text": [
      "10 5\n"
     ]
    }
   ],
   "source": [
    "a,b = 5,10\n",
    "\n",
    "b,a = a,b\n",
    "\n",
    "print(a,b)"
   ]
  },
  {
   "cell_type": "markdown",
   "metadata": {},
   "source": [
    "#### 4 Write a Python program to find square root of positive number."
   ]
  },
  {
   "cell_type": "code",
   "execution_count": 4,
   "metadata": {},
   "outputs": [
    {
     "name": "stdout",
     "output_type": "stream",
     "text": [
      "Enter Positive number : 16\n",
      "Square root of 16.0 is 4.0\n"
     ]
    }
   ],
   "source": [
    "number = float(input(\"Enter Positive number : \"))\n",
    "\n",
    "if number > 0:\n",
    "    sqrt = number ** 0.5\n",
    "    print('Square root of',number, 'is',sqrt)\n",
    "else:\n",
    "    print('Invalid Number')"
   ]
  },
  {
   "cell_type": "markdown",
   "metadata": {},
   "source": [
    "#### 5 Write a Python program to find area of a rectangle and circle."
   ]
  },
  {
   "cell_type": "code",
   "execution_count": 5,
   "metadata": {},
   "outputs": [
    {
     "name": "stdout",
     "output_type": "stream",
     "text": [
      "Enter length and breadth of rectangle : 4 20\n",
      "Area of rectangle : 80.0\n",
      "Enter radius of circle : 3\n",
      "Area of circle : 28.274333882308138\n"
     ]
    }
   ],
   "source": [
    "from math import pi\n",
    "\n",
    "l,b = input('Enter length and breadth of rectangle : ').split()\n",
    "l,b = float(l),float(b)\n",
    "\n",
    "print('Area of rectangle :',l*b)\n",
    "\n",
    "r = float(input('Enter radius of circle : '))\n",
    "\n",
    "print('Area of circle :',pi*r*r)"
   ]
  },
  {
   "cell_type": "markdown",
   "metadata": {},
   "source": [
    "#### 6 Write a Python program to find sum of n natural numbers without loop."
   ]
  },
  {
   "cell_type": "code",
   "execution_count": 6,
   "metadata": {},
   "outputs": [
    {
     "name": "stdout",
     "output_type": "stream",
     "text": [
      "Enter any natural number :6\n",
      "Sum of 6 numbers is: 21.0\n"
     ]
    }
   ],
   "source": [
    "n = int(input('Enter any natural number :'))\n",
    "sum = n*(n+1)/2\n",
    "\n",
    "print('Sum of',n,'numbers is:',sum)"
   ]
  },
  {
   "cell_type": "markdown",
   "metadata": {},
   "source": [
    "#### 7 Check various arithmetic operators of Python."
   ]
  },
  {
   "cell_type": "code",
   "execution_count": 7,
   "metadata": {},
   "outputs": [
    {
     "name": "stdout",
     "output_type": "stream",
     "text": [
      "add of 9 and 4 is 13\n",
      "sub of 9 and 4 is 5\n",
      "mul of 9 and 4 is 36\n",
      "div1 of 9 and 4 is 2.25\n",
      "div2 of 9 and 4 is 2\n",
      "mod of 9 and 4 is 1\n"
     ]
    }
   ],
   "source": [
    "a = 9\n",
    "b = 4\n",
    "  \n",
    "add = a + b \n",
    "sub = a - b \n",
    "mul = a * b \n",
    "div1 = a / b \n",
    "div2 = a // b \n",
    "mod = a % b \n",
    "  \n",
    "print('add of 9 and 4 is',add) \n",
    "print('sub of 9 and 4 is',sub) \n",
    "print('mul of 9 and 4 is',mul) \n",
    "print('div1 of 9 and 4 is',div1) \n",
    "print('div2 of 9 and 4 is',div2) \n",
    "print('mod of 9 and 4 is',mod) "
   ]
  },
  {
   "cell_type": "markdown",
   "metadata": {},
   "source": [
    "#### 8 Check various bitwise operators of Python."
   ]
  },
  {
   "cell_type": "code",
   "execution_count": 8,
   "metadata": {},
   "outputs": [
    {
     "name": "stdout",
     "output_type": "stream",
     "text": [
      "AND operation b/w 10 and 4 :  0\n",
      "OR operation b/w 10 and 4 :  14\n",
      "NOT operation b/w 10 and 4 :  -11\n",
      "XOR operation b/w 10 and 4 :  14\n",
      "right shift operation b/w 10 and 4 :  2\n",
      "left shift operation b/w 10 and 4 :  40\n"
     ]
    }
   ],
   "source": [
    "a = 10\n",
    "b = 4\n",
    "  \n",
    "print(\"AND operation b/w 10 and 4 : \",a & b) \n",
    "  \n",
    "print(\"OR operation b/w 10 and 4 : \",a | b) \n",
    "  \n",
    "print(\"NOT operation b/w 10 and 4 : \",~a) \n",
    "  \n",
    "print(\"XOR operation b/w 10 and 4 : \",a ^ b) \n",
    "  \n",
    "print(\"right shift operation b/w 10 and 4 : \",a >> 2) \n",
    "  \n",
    "print(\"left shift operation b/w 10 and 4 : \",a << 2) "
   ]
  },
  {
   "cell_type": "code",
   "execution_count": null,
   "metadata": {},
   "outputs": [],
   "source": []
  }
 ],
 "metadata": {
  "kernelspec": {
   "display_name": "Python 3",
   "language": "python",
   "name": "python3"
  },
  "language_info": {
   "codemirror_mode": {
    "name": "ipython",
    "version": 3
   },
   "file_extension": ".py",
   "mimetype": "text/x-python",
   "name": "python",
   "nbconvert_exporter": "python",
   "pygments_lexer": "ipython3",
   "version": "3.8.7"
  }
 },
 "nbformat": 4,
 "nbformat_minor": 4
}
